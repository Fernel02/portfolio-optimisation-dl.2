{
 "cells": [
  {
   "cell_type": "code",
   "execution_count": 13,
   "id": "bcafbd41-b98d-4a2e-a030-094a342552c0",
   "metadata": {},
   "outputs": [
    {
     "ename": "ModuleNotFoundError",
     "evalue": "No module named 'metrics'",
     "output_type": "error",
     "traceback": [
      "\u001b[31m---------------------------------------------------------------\u001b[39m",
      "\u001b[31mModuleNotFoundError\u001b[39m           Traceback (most recent call last)",
      "\u001b[36mCell\u001b[39m\u001b[36m \u001b[39m\u001b[32mIn[13]\u001b[39m\u001b[32m, line 5\u001b[39m\n\u001b[32m      3\u001b[39m \u001b[38;5;28;01mimport\u001b[39;00m\u001b[38;5;250m \u001b[39m\u001b[34;01mmatplotlib\u001b[39;00m\u001b[34;01m.\u001b[39;00m\u001b[34;01mpyplot\u001b[39;00m\u001b[38;5;250m \u001b[39m\u001b[38;5;28;01mas\u001b[39;00m\u001b[38;5;250m \u001b[39m\u001b[34;01mplt\u001b[39;00m\n\u001b[32m      4\u001b[39m \u001b[38;5;28;01mimport\u001b[39;00m\u001b[38;5;250m \u001b[39m\u001b[34;01mseaborn\u001b[39;00m\u001b[38;5;250m \u001b[39m\u001b[38;5;28;01mas\u001b[39;00m\u001b[38;5;250m \u001b[39m\u001b[34;01msns\u001b[39;00m\n\u001b[32m----> \u001b[39m\u001b[32m5\u001b[39m \u001b[38;5;28;01mimport\u001b[39;00m\u001b[38;5;250m \u001b[39m\u001b[34;01mmetrics\u001b[39;00m \u001b[38;5;66;03m# <--- IMPORT YOUR NEW METRICS FILE\u001b[39;00m\n\u001b[32m      7\u001b[39m \u001b[38;5;66;03m# --- 1.1. Loading and Cleaning the Data ---\u001b[39;00m\n\u001b[32m      8\u001b[39m \n\u001b[32m      9\u001b[39m \u001b[38;5;66;03m# Load the dataset\u001b[39;00m\n\u001b[32m     10\u001b[39m \u001b[38;5;66;03m# Make sure the path is correct relative to your notebook location\u001b[39;00m\n\u001b[32m     11\u001b[39m file_path = \u001b[33m'\u001b[39m\u001b[33m../data/220 obs 4 asset.csv\u001b[39m\u001b[33m'\u001b[39m \n",
      "\u001b[31mModuleNotFoundError\u001b[39m: No module named 'metrics'"
     ]
    }
   ],
   "source": [
    "import sys\n",
    "import os\n",
    "\n",
    "# Get the absolute path of the directory containing 'src' and 'notebooks'\n",
    "# This navigates one level up from the current directory ('notebooks')\n",
    "project_root = os.path.abspath(os.path.join(os.getcwd(), '..'))\n",
    "\n",
    "# Add the 'src' directory to the Python path\n",
    "src_path = os.path.join(project_root, 'src')\n",
    "if src_path not in sys.path:\n",
    "    sys.path.append(src_path)\n",
    "\n",
    "# Now you can import the metrics module\n",
    "import metrics\n",
    "\n",
    "\n",
    "import pandas as pd\n",
    "import numpy as np\n",
    "import matplotlib.pyplot as plt\n",
    "import seaborn as sns\n",
    "\n",
    "# --- 1.1. Loading and Cleaning the Data ---\n",
    "\n",
    "# Load the dataset\n",
    "# Make sure the path is correct relative to your notebook location\n",
    "file_path = '../data/220 obs 4 asset.csv' \n",
    "df = pd.read_csv(file_path, parse_dates=['Date'], dayfirst=True, index_col='Date')\n",
    "\n",
    "# Rename columns for easier access\n",
    "df.columns = ['AGG', 'Infrastructure', 'SP500', 'Gold']\n",
    "\n",
    "print(\"Data loaded successfully. Here are the first 5 rows:\")\n",
    "print(df.head())\n",
    "print(\"\\n\" + \"=\"*50 + \"\\n\")\n",
    "\n",
    "# --- 1.2. Exploratory Data Analysis (EDA) ---\n",
    "\n",
    "# (Your EDA code for plotting remains the same...)\n",
    "cumulative_returns = np.exp(df.cumsum())\n",
    "plt.figure(figsize=(12, 6))\n",
    "cumulative_returns.plot(ax=plt.gca())\n",
    "plt.title('Cumulative Returns of Assets (2006-2023)')\n",
    "plt.ylabel('Cumulative Growth')\n",
    "plt.grid(True)\n",
    "plt.show()\n",
    "\n",
    "correlation_matrix = df.corr()\n",
    "plt.figure(figsize=(8, 6))\n",
    "sns.heatmap(correlation_matrix, annot=True, cmap='coolwarm', fmt=\".2f\")\n",
    "plt.title('Correlation Matrix of Asset Log Returns')\n",
    "plt.show()\n",
    "\n",
    "print(\"EDA plots have been generated.\")\n",
    "print(\"\\n\" + \"=\"*50 + \"\\n\")\n",
    "\n",
    "\n",
    "# --- 1.3. Calculating Objective Functions ---\n",
    "\n",
    "# --- Testing with an Equal-Weight Portfolio ---\n",
    "portfolio_returns = df.mean(axis=1)\n",
    "\n",
    "print(f\"--- Metrics for Equal-Weight Portfolio ---\")\n",
    "# Note: We now call the functions using 'metrics.' as a prefix\n",
    "print(f\"Sortino Ratio: {metrics.sortino_ratio(portfolio_returns):.4f}\")\n",
    "print(f\"Calmar Ratio: {metrics.calmar_ratio(portfolio_returns):.4f}\")\n",
    "print(f\"CVaR (95%): {metrics.cvar(portfolio_returns):.4f} (Note: This is a monthly value)\")"
   ]
  },
  {
   "cell_type": "code",
   "execution_count": 12,
   "id": "5261977e-9cdb-4eea-9c20-4c0499a48f8b",
   "metadata": {},
   "outputs": [
    {
     "name": "stdout",
     "output_type": "stream",
     "text": [
      "Date\n",
      "2006-09-30   -0.004878\n",
      "2006-10-31    0.013192\n",
      "2006-11-30    0.016930\n",
      "2006-12-31    0.029856\n",
      "2007-01-31    0.012963\n",
      "dtype: float64\n"
     ]
    }
   ],
   "source": [
    "# Equal weights\n",
    "n_assets = df.shape[1]\n",
    "weights = np.ones(n_assets) / n_assets\n",
    "\n",
    "# Portfolio returns\n",
    "portfolio_returns = df.dot(weights)\n",
    "\n",
    "print(portfolio_returns.head())\n"
   ]
  },
  {
   "cell_type": "code",
   "execution_count": null,
   "id": "d3de9843-4384-4ba2-b826-72e60d40b031",
   "metadata": {},
   "outputs": [],
   "source": []
  }
 ],
 "metadata": {
  "kernelspec": {
   "display_name": "Python 3 (ipykernel)",
   "language": "python",
   "name": "python3"
  },
  "language_info": {
   "codemirror_mode": {
    "name": "ipython",
    "version": 3
   },
   "file_extension": ".py",
   "mimetype": "text/x-python",
   "name": "python",
   "nbconvert_exporter": "python",
   "pygments_lexer": "ipython3",
   "version": "3.11.8"
  }
 },
 "nbformat": 4,
 "nbformat_minor": 5
}
